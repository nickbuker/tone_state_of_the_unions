{
 "cells": [
  {
   "cell_type": "code",
   "execution_count": 95,
   "metadata": {
    "collapsed": false
   },
   "outputs": [],
   "source": [
    "import glob\n",
    "import json\n",
    "import time\n",
    "from src import tone_analyzer"
   ]
  },
  {
   "cell_type": "markdown",
   "metadata": {},
   "source": [
    "## Load text files and tone analyze"
   ]
  },
  {
   "cell_type": "code",
   "execution_count": 82,
   "metadata": {
    "collapsed": false
   },
   "outputs": [],
   "source": [
    "# Use glob to loop through files\n",
    "speeches = {}\n",
    "for doc in glob.glob('./state_of_the_unions/*.txt'):\n",
    "    with open(doc) as f:\n",
    "        data = f.read().replace('\\n', ' ')\n",
    "        speeches[doc[22:29]] = data"
   ]
  },
  {
   "cell_type": "code",
   "execution_count": 87,
   "metadata": {
    "collapsed": false
   },
   "outputs": [],
   "source": [
    "# Run speeches through IBM Watson tone analyzer\n",
    "tones = {}\n",
    "for k, v in speeches.items():\n",
    "    tone = tone_analyzer.tone_analyzer(text=v, prints=False)\n",
    "    tones[k] = tone\n",
    "    time.sleep(10)"
   ]
  },
  {
   "cell_type": "code",
   "execution_count": 91,
   "metadata": {
    "collapsed": false
   },
   "outputs": [],
   "source": [
    "# Create tones by year for easier future plotting\n",
    "tones_year = {k[-4:]:v for k, v in tones.items()}"
   ]
  },
  {
   "cell_type": "markdown",
   "metadata": {},
   "source": [
    "## Save speeches and tones as json's"
   ]
  },
  {
   "cell_type": "code",
   "execution_count": 94,
   "metadata": {
    "collapsed": true
   },
   "outputs": [],
   "source": [
    "with open('./data/speeches.json', 'w') as f:\n",
    "    json.dump(speeches, f)\n",
    "with open('./data/tones.json', 'w') as f:\n",
    "    json.dump(tones, f)    \n",
    "with open('./data/tones_year.json', 'w') as f:\n",
    "    json.dump(tones_year, f)"
   ]
  }
 ],
 "metadata": {
  "kernelspec": {
   "display_name": "Python 3",
   "language": "python",
   "name": "python3"
  },
  "language_info": {
   "codemirror_mode": {
    "name": "ipython",
    "version": 3
   },
   "file_extension": ".py",
   "mimetype": "text/x-python",
   "name": "python",
   "nbconvert_exporter": "python",
   "pygments_lexer": "ipython3",
   "version": "3.6.0"
  }
 },
 "nbformat": 4,
 "nbformat_minor": 2
}
