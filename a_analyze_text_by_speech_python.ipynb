{
 "cells": [
  {
   "cell_type": "code",
   "execution_count": 1,
   "metadata": {
    "collapsed": false
   },
   "outputs": [],
   "source": [
    "import glob\n",
    "import json\n",
    "import time\n",
    "from src import tone_analyzer\n",
    "import pandas as pd\n",
    "from pandasql import sqldf"
   ]
  },
  {
   "cell_type": "markdown",
   "metadata": {},
   "source": [
    "## Load text files and tone analyze by speech"
   ]
  },
  {
   "cell_type": "code",
   "execution_count": 82,
   "metadata": {
    "collapsed": false
   },
   "outputs": [],
   "source": [
    "# Use glob to loop through files\n",
    "speeches = {}\n",
    "for doc in glob.glob('./state_of_the_unions/*.txt'):\n",
    "    with open(doc) as f:\n",
    "        data = f.read().replace('\\n', ' ')\n",
    "        speeches[doc[22:29]] = data"
   ]
  },
  {
   "cell_type": "code",
   "execution_count": 87,
   "metadata": {
    "collapsed": false
   },
   "outputs": [],
   "source": [
    "# Run speeches through IBM Watson tone analyzer\n",
    "tones = {}\n",
    "for k, v in speeches.items():\n",
    "    tone = tone_analyzer.tone_analyzer(text=v, prints=False)\n",
    "    tones[k] = tone\n",
    "    time.sleep(10)"
   ]
  },
  {
   "cell_type": "code",
   "execution_count": 91,
   "metadata": {
    "collapsed": false
   },
   "outputs": [],
   "source": [
    "# Create tones by year for easier future plotting\n",
    "tones_year = {k[-4:]:v for k, v in tones.items()}"
   ]
  },
  {
   "cell_type": "markdown",
   "metadata": {},
   "source": [
    "## Save speeches and tones as json's"
   ]
  },
  {
   "cell_type": "code",
   "execution_count": 94,
   "metadata": {
    "collapsed": true
   },
   "outputs": [],
   "source": [
    "with open('./data/speeches.json', 'w') as f:\n",
    "    json.dump(speeches, f)\n",
    "with open('./data/tones.json', 'w') as f:\n",
    "    json.dump(tones, f)    \n",
    "with open('./data/tones_year.json', 'w') as f:\n",
    "    json.dump(tones_year, f)"
   ]
  },
  {
   "cell_type": "markdown",
   "metadata": {},
   "source": [
    "## Save tones by year as csv"
   ]
  },
  {
   "cell_type": "code",
   "execution_count": 14,
   "metadata": {
    "collapsed": false
   },
   "outputs": [
    {
     "data": {
      "text/html": [
       "<div>\n",
       "<table border=\"1\" class=\"dataframe\">\n",
       "  <thead>\n",
       "    <tr style=\"text-align: right;\">\n",
       "      <th></th>\n",
       "      <th>Anger</th>\n",
       "      <th>Disgust</th>\n",
       "      <th>Fear</th>\n",
       "      <th>Joy</th>\n",
       "      <th>Sadness</th>\n",
       "    </tr>\n",
       "  </thead>\n",
       "  <tbody>\n",
       "    <tr>\n",
       "      <th>1961</th>\n",
       "      <td>0.144487</td>\n",
       "      <td>0.499208</td>\n",
       "      <td>0.548613</td>\n",
       "      <td>0.508618</td>\n",
       "      <td>0.553114</td>\n",
       "    </tr>\n",
       "    <tr>\n",
       "      <th>1962</th>\n",
       "      <td>0.139498</td>\n",
       "      <td>0.147811</td>\n",
       "      <td>0.169758</td>\n",
       "      <td>0.599229</td>\n",
       "      <td>0.557545</td>\n",
       "    </tr>\n",
       "    <tr>\n",
       "      <th>1963</th>\n",
       "      <td>0.131624</td>\n",
       "      <td>0.149008</td>\n",
       "      <td>0.541204</td>\n",
       "      <td>0.470642</td>\n",
       "      <td>0.569984</td>\n",
       "    </tr>\n",
       "    <tr>\n",
       "      <th>1964</th>\n",
       "      <td>0.477675</td>\n",
       "      <td>0.181133</td>\n",
       "      <td>0.133369</td>\n",
       "      <td>0.506948</td>\n",
       "      <td>0.566230</td>\n",
       "    </tr>\n",
       "    <tr>\n",
       "      <th>1965</th>\n",
       "      <td>0.132977</td>\n",
       "      <td>0.162332</td>\n",
       "      <td>0.149590</td>\n",
       "      <td>0.537658</td>\n",
       "      <td>0.571627</td>\n",
       "    </tr>\n",
       "  </tbody>\n",
       "</table>\n",
       "</div>"
      ],
      "text/plain": [
       "         Anger   Disgust      Fear       Joy   Sadness\n",
       "1961  0.144487  0.499208  0.548613  0.508618  0.553114\n",
       "1962  0.139498  0.147811  0.169758  0.599229  0.557545\n",
       "1963  0.131624  0.149008  0.541204  0.470642  0.569984\n",
       "1964  0.477675  0.181133  0.133369  0.506948  0.566230\n",
       "1965  0.132977  0.162332  0.149590  0.537658  0.571627"
      ]
     },
     "execution_count": 14,
     "metadata": {},
     "output_type": "execute_result"
    }
   ],
   "source": [
    "df = pd.read_json('./data/tones_year.json')\n",
    "df = df.T\n",
    "df.head()"
   ]
  },
  {
   "cell_type": "code",
   "execution_count": 15,
   "metadata": {
    "collapsed": true
   },
   "outputs": [],
   "source": [
    "df.to_csv('./data/tones_year.csv')"
   ]
  },
  {
   "cell_type": "markdown",
   "metadata": {},
   "source": [
    "## Make tall dataframe and save as csv"
   ]
  },
  {
   "cell_type": "code",
   "execution_count": 16,
   "metadata": {
    "collapsed": false
   },
   "outputs": [
    {
     "data": {
      "text/html": [
       "<div>\n",
       "<table border=\"1\" class=\"dataframe\">\n",
       "  <thead>\n",
       "    <tr style=\"text-align: right;\">\n",
       "      <th></th>\n",
       "      <th>Year</th>\n",
       "      <th>Anger</th>\n",
       "      <th>Disgust</th>\n",
       "      <th>Fear</th>\n",
       "      <th>Joy</th>\n",
       "      <th>Sadness</th>\n",
       "    </tr>\n",
       "  </thead>\n",
       "  <tbody>\n",
       "    <tr>\n",
       "      <th>0</th>\n",
       "      <td>1961</td>\n",
       "      <td>0.144487</td>\n",
       "      <td>0.499208</td>\n",
       "      <td>0.548613</td>\n",
       "      <td>0.508618</td>\n",
       "      <td>0.553114</td>\n",
       "    </tr>\n",
       "    <tr>\n",
       "      <th>1</th>\n",
       "      <td>1962</td>\n",
       "      <td>0.139498</td>\n",
       "      <td>0.147811</td>\n",
       "      <td>0.169758</td>\n",
       "      <td>0.599229</td>\n",
       "      <td>0.557545</td>\n",
       "    </tr>\n",
       "    <tr>\n",
       "      <th>2</th>\n",
       "      <td>1963</td>\n",
       "      <td>0.131624</td>\n",
       "      <td>0.149008</td>\n",
       "      <td>0.541204</td>\n",
       "      <td>0.470642</td>\n",
       "      <td>0.569984</td>\n",
       "    </tr>\n",
       "    <tr>\n",
       "      <th>3</th>\n",
       "      <td>1964</td>\n",
       "      <td>0.477675</td>\n",
       "      <td>0.181133</td>\n",
       "      <td>0.133369</td>\n",
       "      <td>0.506948</td>\n",
       "      <td>0.566230</td>\n",
       "    </tr>\n",
       "    <tr>\n",
       "      <th>4</th>\n",
       "      <td>1965</td>\n",
       "      <td>0.132977</td>\n",
       "      <td>0.162332</td>\n",
       "      <td>0.149590</td>\n",
       "      <td>0.537658</td>\n",
       "      <td>0.571627</td>\n",
       "    </tr>\n",
       "  </tbody>\n",
       "</table>\n",
       "</div>"
      ],
      "text/plain": [
       "   Year     Anger   Disgust      Fear       Joy   Sadness\n",
       "0  1961  0.144487  0.499208  0.548613  0.508618  0.553114\n",
       "1  1962  0.139498  0.147811  0.169758  0.599229  0.557545\n",
       "2  1963  0.131624  0.149008  0.541204  0.470642  0.569984\n",
       "3  1964  0.477675  0.181133  0.133369  0.506948  0.566230\n",
       "4  1965  0.132977  0.162332  0.149590  0.537658  0.571627"
      ]
     },
     "execution_count": 16,
     "metadata": {},
     "output_type": "execute_result"
    }
   ],
   "source": [
    "df_ind = df.reset_index()\n",
    "df_ind = df_ind.rename(columns = {'index': 'Year'})\n",
    "df_ind.head()"
   ]
  },
  {
   "cell_type": "code",
   "execution_count": 17,
   "metadata": {
    "collapsed": false
   },
   "outputs": [
    {
     "data": {
      "text/html": [
       "<div>\n",
       "<table border=\"1\" class=\"dataframe\">\n",
       "  <thead>\n",
       "    <tr style=\"text-align: right;\">\n",
       "      <th></th>\n",
       "      <th>Year</th>\n",
       "      <th>Tone</th>\n",
       "      <th>Score</th>\n",
       "    </tr>\n",
       "  </thead>\n",
       "  <tbody>\n",
       "    <tr>\n",
       "      <th>0</th>\n",
       "      <td>1961</td>\n",
       "      <td>Anger</td>\n",
       "      <td>0.144487</td>\n",
       "    </tr>\n",
       "    <tr>\n",
       "      <th>1</th>\n",
       "      <td>1961</td>\n",
       "      <td>Disgust</td>\n",
       "      <td>0.499208</td>\n",
       "    </tr>\n",
       "    <tr>\n",
       "      <th>2</th>\n",
       "      <td>1961</td>\n",
       "      <td>Fear</td>\n",
       "      <td>0.548613</td>\n",
       "    </tr>\n",
       "    <tr>\n",
       "      <th>3</th>\n",
       "      <td>1961</td>\n",
       "      <td>Joy</td>\n",
       "      <td>0.508618</td>\n",
       "    </tr>\n",
       "    <tr>\n",
       "      <th>4</th>\n",
       "      <td>1961</td>\n",
       "      <td>Sadness</td>\n",
       "      <td>0.553114</td>\n",
       "    </tr>\n",
       "    <tr>\n",
       "      <th>5</th>\n",
       "      <td>1962</td>\n",
       "      <td>Anger</td>\n",
       "      <td>0.139498</td>\n",
       "    </tr>\n",
       "    <tr>\n",
       "      <th>6</th>\n",
       "      <td>1962</td>\n",
       "      <td>Disgust</td>\n",
       "      <td>0.147811</td>\n",
       "    </tr>\n",
       "    <tr>\n",
       "      <th>7</th>\n",
       "      <td>1962</td>\n",
       "      <td>Fear</td>\n",
       "      <td>0.169758</td>\n",
       "    </tr>\n",
       "    <tr>\n",
       "      <th>8</th>\n",
       "      <td>1962</td>\n",
       "      <td>Joy</td>\n",
       "      <td>0.599229</td>\n",
       "    </tr>\n",
       "    <tr>\n",
       "      <th>9</th>\n",
       "      <td>1962</td>\n",
       "      <td>Sadness</td>\n",
       "      <td>0.557545</td>\n",
       "    </tr>\n",
       "  </tbody>\n",
       "</table>\n",
       "</div>"
      ],
      "text/plain": [
       "   Year     Tone     Score\n",
       "0  1961    Anger  0.144487\n",
       "1  1961  Disgust  0.499208\n",
       "2  1961     Fear  0.548613\n",
       "3  1961      Joy  0.508618\n",
       "4  1961  Sadness  0.553114\n",
       "5  1962    Anger  0.139498\n",
       "6  1962  Disgust  0.147811\n",
       "7  1962     Fear  0.169758\n",
       "8  1962      Joy  0.599229\n",
       "9  1962  Sadness  0.557545"
      ]
     },
     "execution_count": 17,
     "metadata": {},
     "output_type": "execute_result"
    }
   ],
   "source": [
    "q = \"\"\"\n",
    "    SELECT\n",
    "        Year\n",
    "        ,'Anger' AS Tone\n",
    "        ,Anger AS Score\n",
    "    FROM\n",
    "        df_ind\n",
    "    UNION\n",
    "    SELECT\n",
    "        Year\n",
    "        ,'Disgust' AS Tone\n",
    "        ,Disgust AS Score\n",
    "    FROM\n",
    "        df_ind\n",
    "    UNION\n",
    "    SELECT\n",
    "        Year\n",
    "        ,'Fear' AS Tone\n",
    "        ,Fear AS Score\n",
    "    FROM\n",
    "        df_ind\n",
    "    UNION\n",
    "    SELECT\n",
    "        Year\n",
    "        ,'Joy' AS Tone\n",
    "        ,Joy AS Score\n",
    "    FROM\n",
    "        df_ind\n",
    "    UNION\n",
    "    SELECT\n",
    "        Year\n",
    "        ,'Sadness' AS Tone\n",
    "        ,Sadness AS Score\n",
    "    FROM\n",
    "        df_ind\n",
    "    \"\"\"\n",
    "\n",
    "df_tall = sqldf(q, locals())\n",
    "df_tall.head(10)"
   ]
  },
  {
   "cell_type": "code",
   "execution_count": 18,
   "metadata": {
    "collapsed": true
   },
   "outputs": [],
   "source": [
    "df_tall.to_csv('./data/tall_tones_year.csv')"
   ]
  },
  {
   "cell_type": "code",
   "execution_count": null,
   "metadata": {
    "collapsed": true
   },
   "outputs": [],
   "source": []
  }
 ],
 "metadata": {
  "kernelspec": {
   "display_name": "Python 3",
   "language": "python",
   "name": "python3"
  },
  "language_info": {
   "codemirror_mode": {
    "name": "ipython",
    "version": 3
   },
   "file_extension": ".py",
   "mimetype": "text/x-python",
   "name": "python",
   "nbconvert_exporter": "python",
   "pygments_lexer": "ipython3",
   "version": "3.6.0"
  }
 },
 "nbformat": 4,
 "nbformat_minor": 2
}
